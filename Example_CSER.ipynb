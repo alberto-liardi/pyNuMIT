{
 "cells": [
  {
   "cell_type": "markdown",
   "id": "d64a7ca3",
   "metadata": {},
   "source": [
    "# Usage example of complexity estimation via State Space Entropy Rate (CSER) "
   ]
  },
  {
   "cell_type": "code",
   "execution_count": null,
   "id": "86aba2a9",
   "metadata": {},
   "outputs": [],
   "source": [
    "import numpy as np\n",
    "from SS.CSER import StateSpaceEntropyRate"
   ]
  },
  {
   "cell_type": "markdown",
   "id": "68cc336f",
   "metadata": {},
   "source": [
    "## Load/generate data"
   ]
  },
  {
   "cell_type": "code",
   "execution_count": null,
   "id": "a8e4f2ad",
   "metadata": {},
   "outputs": [],
   "source": [
    "# generate some synthetic data\n",
    "n, m, N = 4, 1000, 10  # channels, time points, trials\n",
    "t = np.arange(m)  # time vector\n",
    "freqs = 0.01 * (1 + np.arange(1, n + 1))[:, None, None]\n",
    "phases = (np.pi / 8) * np.arange(1, N + 1)[None, None, :]\n",
    "amps = (1 + 0.5 * np.arange(1, n + 1))[:, None, None]\n",
    "T = t[None, :, None]\n",
    "signal = amps * np.sin(2 * np.pi * freqs * T + phases)\n",
    "noise = 0.5 * np.random.randn(n, m, N)\n",
    "X = signal + noise"
   ]
  },
  {
   "cell_type": "markdown",
   "id": "9b9583bb",
   "metadata": {},
   "source": [
    "## Broadband CSER per channel"
   ]
  },
  {
   "cell_type": "code",
   "execution_count": null,
   "id": "17926a70",
   "metadata": {},
   "outputs": [],
   "source": [
    "# test CSER without bands\n",
    "cser = StateSpaceEntropyRate(X, Fs=200)\n",
    "print(\"CSER:\", cser)\n",
    "# NB: CSER values for each channel "
   ]
  },
  {
   "cell_type": "markdown",
   "id": "e9dc8555",
   "metadata": {},
   "source": [
    "## Band-decomposed CSER per channel"
   ]
  },
  {
   "cell_type": "code",
   "execution_count": null,
   "id": "8457e651",
   "metadata": {},
   "outputs": [],
   "source": [
    "# test CSER with bands\n",
    "cser_bands = StateSpaceEntropyRate(\n",
    "    X,\n",
    "    Fs=200,\n",
    "    downsampling=\"yes\",\n",
    "    band=np.array([[1, 4], [4, 8], [8, 12], [12, 25]]),\n",
    ")\n",
    "print(\"CSER with bands:\\n\", cser_bands)\n",
    "# NB: first column is broadband values, following columns are band-specific values"
   ]
  }
 ],
 "metadata": {
  "kernelspec": {
   "display_name": "Python 3",
   "language": "python",
   "name": "python3"
  },
  "language_info": {
   "codemirror_mode": {
    "name": "ipython",
    "version": 3
   },
   "file_extension": ".py",
   "mimetype": "text/x-python",
   "name": "python",
   "nbconvert_exporter": "python",
   "pygments_lexer": "ipython3",
   "version": "3.10.11"
  }
 },
 "nbformat": 4,
 "nbformat_minor": 5
}
