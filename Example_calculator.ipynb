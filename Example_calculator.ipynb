{
 "cells": [
  {
   "cell_type": "markdown",
   "id": "3bcae222",
   "metadata": {},
   "source": [
    "# Example usage of InfoCalculator"
   ]
  },
  {
   "cell_type": "code",
   "execution_count": null,
   "id": "21cff087",
   "metadata": {},
   "outputs": [],
   "source": [
    "import numpy as np\n",
    "from InfoDyn.InfoCalculator import Info_calculator"
   ]
  },
  {
   "cell_type": "markdown",
   "id": "5df7188a",
   "metadata": {},
   "source": [
    "## Calculate information quantities from covariance matrices "
   ]
  },
  {
   "cell_type": "markdown",
   "id": "a3624e65",
   "metadata": {},
   "source": [
    "### Gaussian covariance matrix"
   ]
  },
  {
   "cell_type": "code",
   "execution_count": null,
   "id": "ace6d716",
   "metadata": {},
   "outputs": [],
   "source": [
    "cov = np.random.rand(4,4)\n",
    "cov = cov @ cov.T  \n",
    "\n",
    "# instantiate Info_calculator object from covariance matrix\n",
    "infocalc = Info_calculator(cov, model=\"Gauss\")\n",
    "\n",
    "# calculate information quantities\n",
    "TE = infocalc.transfer_entropy(source=0, target=1)\n",
    "IMI = infocalc.istantaneous_mutual_information(idx1=0, idx2=1)\n",
    "PID = infocalc.PID([0],[1], [0,1], as_dict=True, red_fun=\"Broja\")\n",
    "PhiID = infocalc.PhiID([0],[1], as_dict=True, red_fun=\"CCS\")\n",
    "\n",
    "# print results\n",
    "print(\"\\nTransfer Entropy from 0 to 1:\", TE)\n",
    "print(\"Instantaneous Mutual Information between 0 and 1:\", IMI)\n",
    "print(\"Partial Information Decomposition from [0] and [1] to [0,1]:\", PID)\n",
    "print(\"PhiID between [0] and [1]:\", PhiID)"
   ]
  },
  {
   "cell_type": "markdown",
   "id": "06f42663",
   "metadata": {},
   "source": [
    "### Covariance matrix can come from a VAR(p) process"
   ]
  },
  {
   "cell_type": "code",
   "execution_count": null,
   "id": "68355142",
   "metadata": {},
   "outputs": [],
   "source": [
    "cov = np.random.rand(12,12)\n",
    "cov = cov @ cov.T  \n",
    "\n",
    "# instantiate Info_calculator object from covariance matrix\n",
    "# 3 sources and 3 past lags\n",
    "infocalc = Info_calculator(cov, model=\"VAR\", p=3)\n",
    "\n",
    "# calculate information quantities between choice of variables \n",
    "TE = infocalc.transfer_entropy(source=[0,1], target=2)\n",
    "TDMI = infocalc.time_delayed_mutual_information(idx1=[0,1], idx2=2)\n",
    "PID = infocalc.PID([0,1],[2], [2], as_dict=False, red_fun=\"MMI\")\n",
    "\n",
    "# print results\n",
    "print(\"\\nTransfer Entropy from [0,1] to 2:\", TE)\n",
    "print(\"Time-Delayed Mutual Information between [0,1] and 2:\", TDMI)\n",
    "print(\"Partial Information Decomposition from [0,1] and [2] to [2]:\", PID)\n",
    "\n",
    "# NB: PhiID is only supported for systems with 1 past lag (p=1)!\n",
    "try:\n",
    "    PhiID = infocalc.PhiID([0],[1])\n",
    "except Exception:\n",
    "    print(\"\\n!! Error calculating PhiID for VAR(p) with p>1 !!\")"
   ]
  },
  {
   "cell_type": "markdown",
   "id": "6b1876c8",
   "metadata": {},
   "source": [
    "## Use InfoCalculator from 2D/3D time series data "
   ]
  },
  {
   "cell_type": "markdown",
   "id": "f5a576fd",
   "metadata": {},
   "source": [
    "### Gaussian"
   ]
  },
  {
   "cell_type": "code",
   "execution_count": null,
   "id": "a0fa7058",
   "metadata": {},
   "outputs": [],
   "source": [
    "# generate synthetic Gaussian data\n",
    "data = np.random.randn(3, 1000)\n",
    "\n",
    "# instantiate Info_calculator object from data\n",
    "infocalc_data = Info_calculator(data, model=\"Gauss\", detrend=True)\n",
    "\n",
    "# calculate information quantities\n",
    "TE_data = infocalc_data.transfer_entropy(source=0, target=1)\n",
    "IMI_data = infocalc_data.istantaneous_mutual_information(idx1=0, idx2=1)\n",
    "\n",
    "# print results\n",
    "print(\"\\nTransfer Entropy from 0 to 1:\", TE_data)\n",
    "print(\"Instantaneous Mutual Information between 0 and 1:\", IMI_data)"
   ]
  },
  {
   "cell_type": "markdown",
   "id": "4393983c",
   "metadata": {},
   "source": [
    "### Vector Autoregression (VAR)"
   ]
  },
  {
   "cell_type": "code",
   "execution_count": null,
   "id": "db9ac68f",
   "metadata": {},
   "outputs": [],
   "source": [
    "# generate synthetic Gaussian data\n",
    "# 3 variables, 1000 samples, 5 trials\n",
    "data = np.random.randn(3, 10000, 5)\n",
    "\n",
    "# instantiate Info_calculator object from data\n",
    "# if model=\"VAR\" and data is a time series, it automatically fits a VAR model\n",
    "# maxp=1 forces a VAR(1) model\n",
    "infocalc_data = Info_calculator(data, model=\"VAR\", maxp=1, detrend=True)\n",
    "\n",
    "# calculate information quantities\n",
    "TE_data = infocalc_data.transfer_entropy(source=0, target=1)\n",
    "IMI_data = infocalc_data.istantaneous_mutual_information(idx1=0, idx2=2)\n",
    "\n",
    "# print results\n",
    "print(\"\\nTransfer Entropy from 0 to 1:\", TE_data)\n",
    "print(\"Instantaneous Mutual Information between 0 and 2:\", IMI_data)"
   ]
  }
 ],
 "metadata": {
  "kernelspec": {
   "display_name": "RandomWalkers",
   "language": "python",
   "name": "python3"
  },
  "language_info": {
   "codemirror_mode": {
    "name": "ipython",
    "version": 3
   },
   "file_extension": ".py",
   "mimetype": "text/x-python",
   "name": "python",
   "nbconvert_exporter": "python",
   "pygments_lexer": "ipython3",
   "version": "3.10.13"
  }
 },
 "nbformat": 4,
 "nbformat_minor": 5
}
