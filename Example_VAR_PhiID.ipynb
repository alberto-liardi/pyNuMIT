{
 "cells": [
  {
   "cell_type": "markdown",
   "metadata": {},
   "source": [
    "# Usage example of VAR-Information decomposition analysis"
   ]
  },
  {
   "cell_type": "code",
   "execution_count": null,
   "metadata": {},
   "outputs": [],
   "source": [
    "import numpy as np\n",
    "import os\n",
    "from NuMIT.NuMIT import NuMIT \n",
    "from utils.utils import loadData, saveData"
   ]
  },
  {
   "cell_type": "markdown",
   "metadata": {},
   "source": [
    "## This procedure calculates PhiID atoms across the whole brain, sampling random brain regions, calculating PhiID between them, and repeating the process many times"
   ]
  },
  {
   "cell_type": "code",
   "execution_count": null,
   "metadata": {},
   "outputs": [],
   "source": [
    "# set the path of the data\n",
    "path = os.path.expanduser(\"~\")+\"/../../data/aliardi/psychedelics_MEG_600Hz\"\n",
    "\n",
    "# set drug name, number of channels, redundancy function, condition (drug/placebo)\n",
    "dr = \"LSD\"\n",
    "ch = 10 \n",
    "rf = \"Broja\"\n",
    "cond = \"Drug\"\n",
    "\n",
    "# set the subject info\n",
    "subject_info = {\"drug\": dr}\n",
    "subject_info['name'] = 1\n",
    "subject_info[\"condition\"] = cond\n",
    "\n",
    "# load the data\n",
    "data, subject_info  = PsychMEGLoad(subject_info, path)\n",
    "\n",
    "print(f\"Doing drug {dr}, subject {subject_info['name']} in condition {subject_info['name']}.\")\n",
    "out_dir = f\"Results/PhiID/{dr}/s{subject_info['name']}_{cond}/{rf}_c{ch}_results.pickle\"\n",
    "\n",
    "# set the parameters\n",
    "params = {\"channels\": ch, \"trials\": 50, \"runs\": 100, \n",
    "        \"red_fun\": rf, \"method\": \"PhiID\", \"mmorder\": 1}\n",
    "\n",
    "# run the analysis\n",
    "results = VAR_analysis(data, subject_info, params, on_file=True, verbose=False, overwrite=False , path=\"Results/\")"
   ]
  },
  {
   "cell_type": "markdown",
   "metadata": {},
   "source": [
    "## Alternatively, use the VAR procedure on specific regions as follows"
   ]
  },
  {
   "cell_type": "code",
   "execution_count": 28,
   "metadata": {},
   "outputs": [
    {
     "name": "stdout",
     "output_type": "stream",
     "text": [
      "Optimizing with Adam...\n",
      "Broja double union is 2.1556470562489265\n",
      "{'rtr': 0.70249, 'rta': 0.0262, 'rtb': 0.03796, 'rts': -0.16239, 'xtr': 0.03796, 'xta': 0.85476, 'xtb': -0.03796, 'xts': 0.19099, 'ytr': 0.0262, 'yta': -0.0262, 'ytb': 0.53423, 'yts': 0.20278, 'str': -0.16695, 'sta': 0.19111, 'stb': 0.20765, 'sts': 0.10273}\n"
     ]
    }
   ],
   "source": [
    "from VAR_NuMIT import PhiID_VAR_calculator\n",
    "from VAR_fitness import fit_var\n",
    "from utils import saveData, low_pass_filter\n",
    "\n",
    "\n",
    "# set the path of the data\n",
    "path = os.path.expanduser(\"~\")+\"/../../data/aliardi/psychedelics_MEG_600Hz\"\n",
    "\n",
    "# set drug name, number of channels, redundancy function, condition (drug/placebo)\n",
    "dr = \"LSD\"\n",
    "ch = 10 \n",
    "rf = \"Broja\"\n",
    "cond = \"Placebo\"\n",
    "trials = 50 \n",
    "\n",
    "# set the subject info\n",
    "subject_info = {\"drug\": dr}\n",
    "subject_info['name'] = 2 \n",
    "subject_info[\"condition\"] = cond\n",
    "\n",
    "# load the data\n",
    "data, subject_info  = PsychMEGLoad(subject_info, path)\n",
    "n_chans, n_timepoints, n_trials = data.shape\n",
    "\n",
    "# Downsample and filter the data\n",
    "down_s = subject_info['fs'] // 200\n",
    "ds_data = low_pass_filter(data, down_s, subject_info['fs'])\n",
    "\n",
    "# Do PhiID between channels 1-5 and 5-10\n",
    "channels = np.arange(ch)\n",
    "# Sample 'trials' (e.g. 50) random trials for fitting the VAR model\n",
    "trials = np.random.choice(n_trials, trials, replace=False)\n",
    "# Select the channels and the trials\n",
    "ts = ds_data[channels,:,:][:,:,trials]\n",
    "\n",
    "# Fit VAR model\n",
    "A, V, p, _ = fit_var(ts, maxp=1) #NB: VAR-PhiID only works with maxp=1\n",
    "\n",
    "# Compute atoms from VAR model\n",
    "atoms = PhiID_VAR_calculator(p, A, V, ch//2, ch//2, rf, verbose=True, as_dict=True)[0] # Set as_dict to False to obtain an array of atoms\n",
    "\n",
    "print(atoms)"
   ]
  }
 ],
 "metadata": {
  "kernelspec": {
   "display_name": "RandomWalkers",
   "language": "python",
   "name": "python3"
  },
  "language_info": {
   "codemirror_mode": {
    "name": "ipython",
    "version": 3
   },
   "file_extension": ".py",
   "mimetype": "text/x-python",
   "name": "python",
   "nbconvert_exporter": "python",
   "pygments_lexer": "ipython3",
   "version": "3.10.15"
  }
 },
 "nbformat": 4,
 "nbformat_minor": 2
}
